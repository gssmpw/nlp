{
 "cells": [
  {
   "cell_type": "markdown",
   "id": "0b754f88",
   "metadata": {},
   "source": [
    "Check what ids actually had related works to extract"
   ]
  },
  {
   "cell_type": "code",
   "execution_count": null,
   "id": "49521ff5",
   "metadata": {},
   "outputs": [],
   "source": [
    "import json\n",
    "import os\n",
    "import shutil\n",
    "ids = json.load(open('ids.json'))\n",
    "related_ids = []\n",
    "for id in ids:\n",
    "    paper_path = f'papers/{id}/replacedcite.tex'\n",
    "    if os.path.exists(paper_path):\n",
    "        related_ids.append(id)\n",
    "    else:\n",
    "        dir_path = f'papers/{id}'\n",
    "        if os.path.exists(dir_path):\n",
    "            shutil.rmtree(dir_path)  # Delete the directory and all its contents\n",
    "            print(f\"Deleted directory: {dir_path}\")"
   ]
  },
  {
   "cell_type": "code",
   "execution_count": null,
   "id": "db6aabfe",
   "metadata": {},
   "outputs": [],
   "source": [
    "print(len(related_ids))"
   ]
  },
  {
   "cell_type": "markdown",
   "id": "12c38369",
   "metadata": {},
   "source": [
    "Get .bib sections for papers with related works and add to file"
   ]
  },
  {
   "cell_type": "code",
   "execution_count": null,
   "id": "b3f6edf4",
   "metadata": {},
   "outputs": [],
   "source": [
    "import requests\n",
    "import tarfile\n",
    "import time\n",
    "for final_id in related_ids:\n",
    "    print(f\"Downloading... {final_id} at index {related_ids.index(final_id)} out of {len(related_ids)}\")    \n",
    "\n",
    "    url = f\"https://arxiv.org/e-print/{final_id}\"\n",
    "    response = requests.get(url)\n",
    "\n",
    "    # Create temp directory structure\n",
    "    temp_dir = \"temp/papers\"\n",
    "    os.makedirs(temp_dir, exist_ok=True)\n",
    "\n",
    "    # Save the file\n",
    "    filename = os.path.join(temp_dir, f\"{final_id}\")\n",
    "    with open(filename, 'wb') as f:\n",
    "        f.write(response.content)\n",
    "\n",
    "    print(f\"Extracting files...\")\n",
    "\n",
    "    # Create output directory\n",
    "    output_dir = f\"papers/{final_id}\"\n",
    "    os.makedirs(output_dir, exist_ok=True)\n",
    "\n",
    "    # Try to extract as tar.gz\n",
    "    try:\n",
    "        with tarfile.open(filename, \"r:gz\") as tar:\n",
    "            members = tar.getmembers()\n",
    "            \n",
    "            # Filter for only .bib files\n",
    "            bib_files = [member for member in members if member.name.endswith('.bib')]\n",
    "            \n",
    "            # Extract only the .tex files\n",
    "            for bib_file in bib_files:\n",
    "                tar.extract(bib_file, path=output_dir)\n",
    "                print(f\"Extracted: {bib_file.name}\")\n",
    "    except:\n",
    "        print(f\"Failed to extract: {final_id}, it may not be a tar.gz file: {response.headers['Content-Type']}\")\n",
    "\n",
    "    # Delete the temporary file\n",
    "    os.remove(filename)\n",
    "    print(f\"Temporary file deleted: {filename}\")\n"
   ]
  }
 ],
 "metadata": {
  "kernelspec": {
   "display_name": ".venv",
   "language": "python",
   "name": "python3"
  },
  "language_info": {
   "codemirror_mode": {
    "name": "ipython",
    "version": 3
   },
   "file_extension": ".py",
   "mimetype": "text/x-python",
   "name": "python",
   "nbconvert_exporter": "python",
   "pygments_lexer": "ipython3",
   "version": "3.10.12"
  }
 },
 "nbformat": 4,
 "nbformat_minor": 5
}
