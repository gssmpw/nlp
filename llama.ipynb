{
 "cells": [
  {
   "cell_type": "code",
   "execution_count": 3,
   "id": "c002c7b3",
   "metadata": {},
   "outputs": [
    {
     "name": "stdout",
     "output_type": "stream",
     "text": [
      "Found 4076 papers with 'citations.json' files\n"
     ]
    }
   ],
   "source": [
    "import os\n",
    "\n",
    "# Get a list of papers with citations\n",
    "def get_paper_ids_with_citations_json(papers_dir='papers'):\n",
    "    \"\"\"Return a list of paper IDs that have a 'citations.json' file.\"\"\"\n",
    "    paper_ids_with_citations = []\n",
    "    \n",
    "    # Check if papers_dir exists\n",
    "    if not os.path.exists(papers_dir):\n",
    "        print(f\"Directory {papers_dir} not found\")\n",
    "        return []\n",
    "    \n",
    "    # List all subdirectories (paper IDs)\n",
    "    for paper_id in os.listdir(papers_dir):\n",
    "        paper_dir = os.path.join(papers_dir, paper_id)\n",
    "        \n",
    "        # Check if it's a directory\n",
    "        if os.path.isdir(paper_dir):\n",
    "            # Check specifically for 'citations.json' file\n",
    "            citations_file = os.path.join(paper_dir, 'citations.json')\n",
    "            if os.path.exists(citations_file):\n",
    "                paper_ids_with_citations.append(paper_id)\n",
    "    \n",
    "    print(f\"Found {len(paper_ids_with_citations)} papers with 'citations.json' files\")\n",
    "    return paper_ids_with_citations\n",
    "\n",
    "ids = get_paper_ids_with_citations_json()"
   ]
  },
  {
   "cell_type": "code",
   "execution_count": 4,
   "id": "217db45b",
   "metadata": {},
   "outputs": [],
   "source": [
    "liz_papers = ids[:1359]\n",
    "gaven_papers = ids[1359:2718]\n",
    "dawson_papers= ids[2718:]"
   ]
  },
  {
   "cell_type": "code",
   "execution_count": null,
   "id": "81b95d7b",
   "metadata": {},
   "outputs": [
    {
     "name": "stdout",
     "output_type": "stream",
     "text": [
      "Starting processing of 1359 papers...\n",
      "[░░░░░░░░░░░░░░░░░░░░░░░░░░░░░░░░░░░░░░░░░░░░░░░░░░] 0.2% (3/1359) | 0.04 papers/sec | 531.7 min left"
     ]
    }
   ],
   "source": [
    "import ollama\n",
    "import sys\n",
    "import time\n",
    "\n",
    "async def process_papers():\n",
    "    client = ollama.AsyncClient()\n",
    "    total_papers = len(liz_papers)\n",
    "    start_time = time.time()\n",
    "    \n",
    "    print(f\"Starting processing of {total_papers} papers...\")\n",
    "    \n",
    "    for i, id in enumerate(liz_papers):\n",
    "        # Process the current paper\n",
    "        replacedcite = open(f\"papers/{id}/replacedcite.tex\", \"r\").read()\n",
    "        blankcount = replacedcite.count('____')\n",
    "        \n",
    "        prompt = f'''\n",
    "        You are an expert in computer science citation prediction.\n",
    "\n",
    "        TASK DEFINITION:\n",
    "        - Below you will find text containing {blankcount} placeholders marked as '____'\n",
    "        - Replace EACH placeholder with predicted paper citations in the specified format\n",
    "        - Return ONLY the text with replacements - nothing else\n",
    "\n",
    "        CITATION FORMAT:\n",
    "        - Replace each '____' with: **Author(s) Last Name(s), \"Full Paper Title\"**\n",
    "        - For multiple papers: **Author(s), \"Paper Title 1\"**__**Author2(s), \"Paper Title 2\"**\n",
    "        - Include full titles in quotes, NOT publication years\n",
    "\n",
    "        === INPUT TEXT STARTS BELOW THIS LINE (DO NOT INCLUDE THIS LINE IN OUTPUT) ===\n",
    "        {replacedcite}\n",
    "        === INPUT TEXT ENDS ABOVE THIS LINE (DO NOT INCLUDE THIS LINE IN OUTPUT) ===\n",
    "\n",
    "        >>CRITICAL<< YOUR RESPONSE MUST CONTAIN:\n",
    "        1. ONLY the original text with placeholders replaced\n",
    "        2. NO introduction, explanation, or conclusion\n",
    "        3. NO phrases like \"Here is the text\" or \"I've replaced\"\n",
    "        4. NOTHING before the first character or after the last character of the original text\n",
    "\n",
    "        Return EXACTLY the input text with each '____' replaced with appropriate citations.\n",
    "        '''\n",
    "        \n",
    "        response = await client.generate('llama3.1:8b', prompt)\n",
    "        with open(f\"papers/{id}/response.txt\", 'w') as f:\n",
    "            f.write(response['response'])\n",
    "        \n",
    "        # Calculate progress stats\n",
    "        elapsed = time.time() - start_time\n",
    "        percent_done = (i + 1) / total_papers * 100\n",
    "        papers_per_sec = (i + 1) / elapsed if elapsed > 0 else 0\n",
    "        remaining = (total_papers - (i + 1)) / papers_per_sec if papers_per_sec > 0 else 0\n",
    "        \n",
    "        # Create progress bar (50 characters wide)\n",
    "        bar_length = 50\n",
    "        filled_length = int(bar_length * percent_done / 100)\n",
    "        bar = '█' * filled_length + '░' * (bar_length - filled_length)\n",
    "        \n",
    "        # Update progress display\n",
    "        status = f\"\\r[{bar}] {percent_done:.1f}% ({i+1}/{total_papers}) | {papers_per_sec:.2f} papers/sec | {remaining/60:.1f} min left\"\n",
    "        sys.stdout.write(status)\n",
    "        sys.stdout.flush()\n",
    "    \n",
    "    # Final newline after completion\n",
    "    sys.stdout.write('\\n')\n",
    "    print(f\"✅ Completed processing {total_papers} papers in {(time.time() - start_time)/60:.1f} minutes!\")\n",
    "\n",
    "# Run the processing\n",
    "await process_papers()"
   ]
  }
 ],
 "metadata": {
  "kernelspec": {
   "display_name": ".venv",
   "language": "python",
   "name": "python3"
  },
  "language_info": {
   "codemirror_mode": {
    "name": "ipython",
    "version": 3
   },
   "file_extension": ".py",
   "mimetype": "text/x-python",
   "name": "python",
   "nbconvert_exporter": "python",
   "pygments_lexer": "ipython3",
   "version": "3.12.3"
  }
 },
 "nbformat": 4,
 "nbformat_minor": 5
}
